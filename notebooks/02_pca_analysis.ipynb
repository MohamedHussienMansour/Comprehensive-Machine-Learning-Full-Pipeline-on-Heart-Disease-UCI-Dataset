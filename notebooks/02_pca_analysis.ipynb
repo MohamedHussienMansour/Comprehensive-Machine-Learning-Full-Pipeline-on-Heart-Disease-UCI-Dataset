{
 "cells": [
  {
   "cell_type": "markdown",
   "id": "72bc94ae",
   "metadata": {},
   "source": [
    "# Heart Disease ML Pipeline (UCI) — Notebooks\n",
    "\n",
    "These notebooks implement a full pipeline on the **UCI Heart Disease** dataset using your requested loader:\n",
    "\n",
    "```python\n",
    "from ucimlrepo import fetch_ucirepo\n",
    "heart_disease = fetch_ucirepo(id=45)\n",
    "X = heart_disease.data.features\n",
    "y = heart_disease.data.targets\n",
    "```\n",
    "\n",
    "> Bonus items (Streamlit/Ngrok) are intentionally **omitted** per the request.\n",
    "\n",
    "## 02 — PCA (Dimensionality Reduction)\n",
    "\n",
    "- Load processed features from `data/`\n",
    "- Fit PCA, plot explained variance & cumulative variance\n",
    "- Save PCA components to `results/`"
   ]
  },
  {
   "cell_type": "code",
   "execution_count": 3,
   "id": "10a70e76",
   "metadata": {},
   "outputs": [
    {
     "name": "stdout",
     "output_type": "stream",
     "text": [
      "Total components: 13\n",
      "Components to keep ~95% variance: 12\n",
      "PCA saved to ../models, plots & table saved to ../results, transformed arrays to ../data.\n"
     ]
    }
   ],
   "source": [
    "import numpy as np\n",
    "import pandas as pd\n",
    "import matplotlib.pyplot as plt\n",
    "from sklearn.decomposition import PCA\n",
    "\n",
    "# Load processed arrays\n",
    "X_train = np.load(\"../data/X_train.npy\")\n",
    "X_test  = np.load(\"../data/X_test.npy\")\n",
    "\n",
    "# PCA\n",
    "pca = PCA(n_components=None, random_state=42)\n",
    "pca.fit(X_train)\n",
    "\n",
    "explained = pca.explained_variance_ratio_\n",
    "cum = explained.cumsum()\n",
    "\n",
    "print(\"Total components:\", len(explained))\n",
    "print(\"Components to keep ~95% variance:\", (cum < 0.95).sum() + 1)\n",
    "\n",
    "# Plots\n",
    "plt.figure()\n",
    "plt.plot(explained, marker='o')\n",
    "plt.title(\"Explained Variance Ratio per Component\")\n",
    "plt.xlabel(\"Component\")\n",
    "plt.ylabel(\"Explained Variance Ratio\")\n",
    "plt.savefig(\"../results/pca_explained_variance.png\", dpi=150)\n",
    "plt.close()\n",
    "\n",
    "plt.figure()\n",
    "plt.plot(cum, marker='o')\n",
    "plt.title(\"Cumulative Explained Variance\")\n",
    "plt.xlabel(\"Component\")\n",
    "plt.ylabel(\"Cumulative Explained Variance\")\n",
    "plt.ylim(0,1.01)\n",
    "plt.savefig(\"../results/pca_cumulative_variance.png\", dpi=150)\n",
    "plt.close()\n",
    "\n",
    "# Save PCA model\n",
    "import joblib\n",
    "joblib.dump(pca, \"../models/pca.pkl\")\n",
    "\n",
    "# Transform and save reduced data for optional downstream experiments\n",
    "X_train_pca = pca.transform(X_train)\n",
    "X_test_pca  = pca.transform(X_test)\n",
    "np.save(\"../data/X_train_pca.npy\", X_train_pca)\n",
    "np.save(\"../data/X_test_pca.npy\", X_test_pca)\n",
    "\n",
    "pd.DataFrame({\n",
    "    \"component\": np.arange(1, len(explained)+1),\n",
    "    \"explained_variance_ratio\": explained,\n",
    "    \"cumulative_variance\": cum\n",
    "}).to_csv(\"../results/pca_variance_table.csv\", index=False)\n",
    "\n",
    "print(\"PCA saved to ../models, plots & table saved to ../results, transformed arrays to ../data.\")"
   ]
  }
 ],
 "metadata": {
  "kernelspec": {
   "display_name": "Python 3",
   "language": "python",
   "name": "python3"
  },
  "language_info": {
   "codemirror_mode": {
    "name": "ipython",
    "version": 3
   },
   "file_extension": ".py",
   "mimetype": "text/x-python",
   "name": "python",
   "nbconvert_exporter": "python",
   "pygments_lexer": "ipython3",
   "version": "3.10.6"
  }
 },
 "nbformat": 4,
 "nbformat_minor": 5
}
