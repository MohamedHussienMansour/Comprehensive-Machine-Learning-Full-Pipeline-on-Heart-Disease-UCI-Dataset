{
 "cells": [
  {
   "cell_type": "markdown",
   "id": "ea5104c8",
   "metadata": {},
   "source": [
    "# Heart Disease ML Pipeline (UCI) — Notebooks\n",
    "\n",
    "These notebooks implement a full pipeline on the **UCI Heart Disease** dataset using your requested loader:\n",
    "\n",
    "```python\n",
    "from ucimlrepo import fetch_ucirepo\n",
    "heart_disease = fetch_ucirepo(id=45)\n",
    "X = heart_disease.data.features\n",
    "y = heart_disease.data.targets\n",
    "```\n",
    "\n",
    "> Bonus items (Streamlit/Ngrok) are intentionally **omitted** per the request.\n",
    "\n",
    "## 05 — Unsupervised Learning (Clustering)\n",
    "\n",
    "- K-Means (elbow method)\n",
    "- Agglomerative (hierarchical) clustering + dendrogram\n",
    "- Optional: Compare cluster labels with true labels (ARI, NMI)"
   ]
  },
  {
   "cell_type": "code",
   "execution_count": 2,
   "id": "e50679d3",
   "metadata": {},
   "outputs": [
    {
     "name": "stdout",
     "output_type": "stream",
     "text": [
      "Saved elbow plot, dendrogram, and clustering report.\n"
     ]
    }
   ],
   "source": [
    "import numpy as np\n",
    "import pandas as pd\n",
    "import matplotlib.pyplot as plt\n",
    "from sklearn.cluster import KMeans, AgglomerativeClustering\n",
    "from sklearn.metrics import adjusted_rand_score, normalized_mutual_info_score\n",
    "from scipy.cluster.hierarchy import dendrogram, linkage\n",
    "\n",
    "# Load processed arrays\n",
    "X_train = np.load(\"../data/X_train.npy\")\n",
    "X_test  = np.load(\"../data/X_test.npy\")\n",
    "y_train = np.load(\"../data/y_train.npy\")\n",
    "y_test  = np.load(\"../data/y_test.npy\")\n",
    "\n",
    "X = np.concatenate([X_train, X_test], axis=0)\n",
    "y = np.concatenate([y_train, y_test], axis=0)\n",
    "\n",
    "# KMeans elbow\n",
    "inertias = []\n",
    "K = range(1, 11)\n",
    "for k in K:\n",
    "    km = KMeans(n_clusters=k, n_init=10, random_state=42)\n",
    "    km.fit(X)\n",
    "    inertias.append(km.inertia_)\n",
    "\n",
    "plt.figure()\n",
    "plt.plot(list(K), inertias, marker='o')\n",
    "plt.title(\"K-Means Elbow Method\")\n",
    "plt.xlabel(\"k\")\n",
    "plt.ylabel(\"Inertia\")\n",
    "plt.savefig(\"../results/kmeans_elbow.png\", dpi=150)\n",
    "plt.close()\n",
    "\n",
    "# Choose a default k=2 (presence/absence of disease) but this is exploratory\n",
    "k = 2\n",
    "km2 = KMeans(n_clusters=k, n_init=10, random_state=42)\n",
    "clusters_km = km2.fit_predict(X)\n",
    "\n",
    "# Hierarchical\n",
    "Z = linkage(X[:500], method='ward')  # sample to speed up plots if large\n",
    "plt.figure(figsize=(10, 5))\n",
    "dendrogram(Z, truncate_mode=\"level\", p=5)\n",
    "plt.title(\"Hierarchical Clustering Dendrogram (truncated)\")\n",
    "plt.xlabel(\"Samples\")\n",
    "plt.ylabel(\"Distance\")\n",
    "plt.tight_layout()\n",
    "plt.savefig(\"../results/hierarchical_dendrogram.png\", dpi=150)\n",
    "plt.close()\n",
    "\n",
    "# Compare with ground truth (optional, since clustering is unsupervised)\n",
    "ari = adjusted_rand_score(y, clusters_km)\n",
    "nmi = normalized_mutual_info_score(y, clusters_km)\n",
    "\n",
    "with open(\"../results/clustering_report.txt\", \"w\") as f:\n",
    "    f.write(f\"KMeans k={k} -> ARI={ari:.3f}, NMI={nmi:.3f}\\n\")\n",
    "\n",
    "print(\"Saved elbow plot, dendrogram, and clustering report.\")"
   ]
  },
  {
   "cell_type": "code",
   "execution_count": null,
   "id": "bd1acb84",
   "metadata": {},
   "outputs": [],
   "source": []
  }
 ],
 "metadata": {
  "kernelspec": {
   "display_name": "Python 3",
   "language": "python",
   "name": "python3"
  },
  "language_info": {
   "codemirror_mode": {
    "name": "ipython",
    "version": 3
   },
   "file_extension": ".py",
   "mimetype": "text/x-python",
   "name": "python",
   "nbconvert_exporter": "python",
   "pygments_lexer": "ipython3",
   "version": "3.10.6"
  }
 },
 "nbformat": 4,
 "nbformat_minor": 5
}
