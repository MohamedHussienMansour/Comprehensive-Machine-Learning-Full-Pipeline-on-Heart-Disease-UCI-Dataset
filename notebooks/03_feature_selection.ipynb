{
 "cells": [
  {
   "cell_type": "markdown",
   "id": "75d2d8a6",
   "metadata": {},
   "source": [
    "# Heart Disease ML Pipeline (UCI) — Notebooks\n",
    "\n",
    "These notebooks implement a full pipeline on the **UCI Heart Disease** dataset using your requested loader:\n",
    "\n",
    "```python\n",
    "from ucimlrepo import fetch_ucirepo\n",
    "heart_disease = fetch_ucirepo(id=45)\n",
    "X = heart_disease.data.features\n",
    "y = heart_disease.data.targets\n",
    "```\n",
    "\n",
    "> Bonus items (Streamlit/Ngrok) are intentionally **omitted** per the request.\n",
    "\n",
    "## 03 — Feature Selection\n",
    "\n",
    "Techniques:\n",
    "- Chi-Square test (requires non-negative features -> use MinMax scaling inside pipeline)\n",
    "- RFE with Logistic Regression\n",
    "- Random Forest feature importance\n",
    "\n",
    "Saves a ranked feature table and a suggested subset list to `results/`."
   ]
  },
  {
   "cell_type": "code",
   "execution_count": 2,
   "id": "3945c0ce",
   "metadata": {},
   "outputs": [
    {
     "name": "stdout",
     "output_type": "stream",
     "text": [
      "Saved feature rankings to ../results and suggested subset (13 features) to selected_features.txt\n"
     ]
    }
   ],
   "source": [
    "import numpy as np\n",
    "import pandas as pd\n",
    "from sklearn.feature_selection import chi2\n",
    "from sklearn.preprocessing import MinMaxScaler\n",
    "from sklearn.linear_model import LogisticRegression\n",
    "from sklearn.feature_selection import RFE\n",
    "from sklearn.ensemble import RandomForestClassifier\n",
    "\n",
    "# Load processed data\n",
    "proc_df = pd.read_csv(\"../data/processed_full.csv\")\n",
    "feature_names = [c for c in proc_df.columns if c != \"target\"]\n",
    "X = proc_df[feature_names].values\n",
    "y = proc_df[\"target\"].values\n",
    "\n",
    "# Chi-square (requires non-negative)\n",
    "X_pos = MinMaxScaler().fit_transform(X)\n",
    "chi2_vals, p_vals = chi2(X_pos, y)\n",
    "\n",
    "chi_df = pd.DataFrame({\n",
    "    \"feature\": feature_names,\n",
    "    \"chi2\": chi2_vals,\n",
    "    \"p_value\": p_vals\n",
    "}).sort_values(\"chi2\", ascending=False)\n",
    "\n",
    "# RFE with Logistic Regression\n",
    "lr = LogisticRegression(max_iter=500, n_jobs=None)\n",
    "rfe = RFE(lr, n_features_to_select=min(12, X.shape[1]))\n",
    "rfe.fit(X, y)\n",
    "rfe_rank = rfe.ranking_\n",
    "rfe_df = pd.DataFrame({\n",
    "    \"feature\": feature_names,\n",
    "    \"rfe_rank\": rfe_rank,\n",
    "    \"selected\": rfe.support_\n",
    "}).sort_values(\"rfe_rank\")\n",
    "\n",
    "# Random Forest importance\n",
    "rf = RandomForestClassifier(n_estimators=300, random_state=42)\n",
    "rf.fit(X, y)\n",
    "rf_importances = rf.feature_importances_\n",
    "\n",
    "rf_df = pd.DataFrame({\n",
    "    \"feature\": feature_names,\n",
    "    \"rf_importance\": rf_importances\n",
    "}).sort_values(\"rf_importance\", ascending=False)\n",
    "\n",
    "# Merge ranks\n",
    "merged = chi_df.merge(rfe_df, on=\"feature\", how=\"outer\").merge(rf_df, on=\"feature\", how=\"outer\")\n",
    "merged.to_csv(\"../results/feature_selection_all_scores.csv\", index=False)\n",
    "\n",
    "# Suggest a final subset: union of top-k from RF and RFE selected\n",
    "top_k = 15 if X.shape[1] > 15 else X.shape[1]\n",
    "top_rf = set(rf_df.head(top_k)[\"feature\"])\n",
    "sel_rfe = set(rfe_df[rfe_df[\"selected\"]][\"feature\"])\n",
    "suggested = sorted(top_rf.union(sel_rfe))\n",
    "\n",
    "with open(\"../results/selected_features.txt\", \"w\") as f:\n",
    "    for feat in suggested:\n",
    "        f.write(f\"{feat}\\n\")\n",
    "\n",
    "print(f\"Saved feature rankings to ../results and suggested subset ({len(suggested)} features) to selected_features.txt\")"
   ]
  }
 ],
 "metadata": {
  "kernelspec": {
   "display_name": "Python 3",
   "language": "python",
   "name": "python3"
  },
  "language_info": {
   "codemirror_mode": {
    "name": "ipython",
    "version": 3
   },
   "file_extension": ".py",
   "mimetype": "text/x-python",
   "name": "python",
   "nbconvert_exporter": "python",
   "pygments_lexer": "ipython3",
   "version": "3.10.6"
  }
 },
 "nbformat": 4,
 "nbformat_minor": 5
}
